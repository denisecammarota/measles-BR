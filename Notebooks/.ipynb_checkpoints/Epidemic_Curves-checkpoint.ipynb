{
 "cells": [
  {
   "cell_type": "code",
   "execution_count": 1,
   "id": "4644b810",
   "metadata": {},
   "outputs": [],
   "source": [
    "import numpy as np\n",
    "import matplotlib.pyplot as plt\n",
    "import pandas as pd\n",
    "import sys\n",
    "from epiweeks import Year"
   ]
  },
  {
   "cell_type": "code",
   "execution_count": 2,
   "id": "e973293a",
   "metadata": {},
   "outputs": [],
   "source": [
    "sys.path.append('..')"
   ]
  },
  {
   "cell_type": "markdown",
   "id": "d59665a4",
   "metadata": {},
   "source": [
    "### National Epidemic Curve"
   ]
  },
  {
   "cell_type": "code",
   "execution_count": 17,
   "id": "0cb51bbb",
   "metadata": {},
   "outputs": [],
   "source": [
    "nat_path = '../Data/analyzed/national_epi_curve.csv'\n",
    "df_nat = pd.read_csv(nat_path)"
   ]
  },
  {
   "cell_type": "code",
   "execution_count": 23,
   "id": "6abdd8eb",
   "metadata": {},
   "outputs": [],
   "source": [
    "years = (df_nat['DATA_EPI'].astype(str).str[:4]).unique()\n",
    "years_int = [eval(i) for i in years]"
   ]
  },
  {
   "cell_type": "code",
   "execution_count": 27,
   "id": "2f19901e",
   "metadata": {},
   "outputs": [
    {
     "ename": "TypeError",
     "evalue": "can only concatenate list (not \"str\") to list",
     "output_type": "error",
     "traceback": [
      "\u001b[1;31m---------------------------------------------------------------------------\u001b[0m",
      "\u001b[1;31mTypeError\u001b[0m                                 Traceback (most recent call last)",
      "Cell \u001b[1;32mIn[27], line 5\u001b[0m\n\u001b[0;32m      3\u001b[0m nweeks_year \u001b[38;5;241m=\u001b[39m Year(year)\u001b[38;5;241m.\u001b[39mtotalweeks()\n\u001b[0;32m      4\u001b[0m weeks_year \u001b[38;5;241m=\u001b[39m \u001b[38;5;28mlist\u001b[39m(np\u001b[38;5;241m.\u001b[39marange(\u001b[38;5;241m1\u001b[39m,nweeks_year\u001b[38;5;241m+\u001b[39m\u001b[38;5;241m1\u001b[39m))\n\u001b[1;32m----> 5\u001b[0m \u001b[38;5;28mprint\u001b[39m(\u001b[43mweeks_year\u001b[49m\u001b[43m \u001b[49m\u001b[38;5;241;43m+\u001b[39;49m\u001b[43m \u001b[49m\u001b[38;5;124;43m'\u001b[39;49m\u001b[38;5;124;43m2022\u001b[39;49m\u001b[38;5;124;43m'\u001b[39;49m)\n",
      "\u001b[1;31mTypeError\u001b[0m: can only concatenate list (not \"str\") to list"
     ]
    }
   ],
   "source": [
    "year_week_epi = []\n",
    "for year in years_int:\n",
    "    nweeks_year = Year(year).totalweeks()\n",
    "    weeks_year = list(np.arange(1,nweeks_year+1))\n",
    "    weeks_year = [str(x) for x in ints]\n",
    "    #year_week_epi.append(tmp)\n",
    "    "
   ]
  }
 ],
 "metadata": {
  "kernelspec": {
   "display_name": "Python 3 (ipykernel)",
   "language": "python",
   "name": "python3"
  },
  "language_info": {
   "codemirror_mode": {
    "name": "ipython",
    "version": 3
   },
   "file_extension": ".py",
   "mimetype": "text/x-python",
   "name": "python",
   "nbconvert_exporter": "python",
   "pygments_lexer": "ipython3",
   "version": "3.10.9"
  }
 },
 "nbformat": 4,
 "nbformat_minor": 5
}
