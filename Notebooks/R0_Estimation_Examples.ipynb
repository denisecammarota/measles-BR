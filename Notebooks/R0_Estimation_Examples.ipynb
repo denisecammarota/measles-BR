{
 "cells": [
  {
   "cell_type": "code",
   "execution_count": 152,
   "id": "ceafc93a",
   "metadata": {},
   "outputs": [],
   "source": [
    "import numpy as np\n",
    "import matplotlib.pyplot as plt\n",
    "from scipy.integrate import odeint\n",
    "from scipy.optimize import curve_fit\n",
    "import pandas as pd\n",
    "from sklearn.linear_model import LinearRegression\n",
    "from scipy.special import lambertw\n",
    "import sys"
   ]
  },
  {
   "cell_type": "code",
   "execution_count": 153,
   "id": "1e2e65aa",
   "metadata": {},
   "outputs": [],
   "source": [
    "sys.path.append('..')"
   ]
  },
  {
   "cell_type": "code",
   "execution_count": 154,
   "id": "2fb048cd",
   "metadata": {},
   "outputs": [],
   "source": [
    "def deriv(y, t, beta, gamma):\n",
    "    S, I, R = y\n",
    "    dSdt = -beta * S * I\n",
    "    dIdt = beta * S * I - gamma * I\n",
    "    dRdt = gamma * I\n",
    "    return dSdt, dIdt, dRdt"
   ]
  },
  {
   "cell_type": "code",
   "execution_count": 155,
   "id": "6547d9ec",
   "metadata": {},
   "outputs": [],
   "source": [
    "def SIR_Model(t,beta,gamma,I0,R0):\n",
    "  S0 = 1 - I0 - R0\n",
    "  #the rest that we had before\n",
    "  y0 = S0,I0,R0\n",
    "  ret = odeint(deriv, y0, t, args=(beta, gamma))\n",
    "  S, I, R = ret.T\n",
    "  return I"
   ]
  },
  {
   "cell_type": "markdown",
   "id": "aa9b15fd",
   "metadata": {},
   "source": [
    "## Sao Paulo"
   ]
  },
  {
   "cell_type": "markdown",
   "id": "095cb37b",
   "metadata": {},
   "source": [
    "### Using linear fit + our derived formulas"
   ]
  },
  {
   "cell_type": "code",
   "execution_count": 86,
   "id": "7396523f",
   "metadata": {},
   "outputs": [],
   "source": [
    "df = pd.read_csv('../Data/analyzed/res_epi_curve_355030.csv') "
   ]
  },
  {
   "cell_type": "code",
   "execution_count": 87,
   "id": "8ffa8c41",
   "metadata": {},
   "outputs": [],
   "source": [
    "N = 11451245\n",
    "C = np.sum(df['CASO'].to_numpy())/N"
   ]
  },
  {
   "cell_type": "code",
   "execution_count": 88,
   "id": "6d4868f3",
   "metadata": {},
   "outputs": [],
   "source": [
    "data = df[43:51]['CASO'].to_numpy()\n",
    "data = data/N\n",
    "date = np.arange(0,data.shape[0]*7,7)"
   ]
  },
  {
   "cell_type": "code",
   "execution_count": 89,
   "id": "7a19fe37",
   "metadata": {},
   "outputs": [],
   "source": [
    "data_log = np.log(data)\n",
    "date_fit = date.reshape((-1, 1))"
   ]
  },
  {
   "cell_type": "code",
   "execution_count": 90,
   "id": "efa6dd40",
   "metadata": {},
   "outputs": [],
   "source": [
    "model = LinearRegression().fit(date_fit, data_log)\n",
    "r_sq = model.score(date_fit, data_log)\n",
    "intercept = model.intercept_\n",
    "slope = model.coef_"
   ]
  },
  {
   "cell_type": "code",
   "execution_count": 134,
   "id": "d1cad5f0",
   "metadata": {},
   "outputs": [],
   "source": [
    "gamma = 1/7\n",
    "a = ((slope/gamma) + 1)\n",
    "R0 = (lambertw(-a*np.exp(-a)) + a)/C\n",
    "S0 = C/(1-np.exp(-R0*C))*N"
   ]
  },
  {
   "cell_type": "code",
   "execution_count": 136,
   "id": "4911a40c",
   "metadata": {},
   "outputs": [
    {
     "name": "stdout",
     "output_type": "stream",
     "text": [
      "R0 = 1007.5517065755005\n",
      "S0 = 16989.20916591371\n"
     ]
    }
   ],
   "source": [
    "print('R0 =',np.real(R0[0]))\n",
    "print('S0 =',np.real(S0[0]))"
   ]
  },
  {
   "cell_type": "markdown",
   "id": "8da91d5b",
   "metadata": {},
   "source": [
    "### SIR Model fit"
   ]
  },
  {
   "cell_type": "code",
   "execution_count": 195,
   "id": "15346321",
   "metadata": {},
   "outputs": [],
   "source": [
    "p0 = 10/7,1/7,10/N,0.93\n",
    "parameters, covariance = curve_fit(SIR_Model, date, data,p0)"
   ]
  },
  {
   "cell_type": "code",
   "execution_count": 196,
   "id": "309ed433",
   "metadata": {},
   "outputs": [
    {
     "data": {
      "text/plain": [
       "array([1.81000199e+00, 1.01566437e-01, 1.17172109e-06, 9.09058913e-01])"
      ]
     },
     "execution_count": 196,
     "metadata": {},
     "output_type": "execute_result"
    }
   ],
   "source": [
    "parameters"
   ]
  },
  {
   "cell_type": "code",
   "execution_count": 200,
   "id": "21e30739",
   "metadata": {},
   "outputs": [
    {
     "data": {
      "text/plain": [
       "[<matplotlib.lines.Line2D at 0x21e06b50910>]"
      ]
     },
     "execution_count": 200,
     "metadata": {},
     "output_type": "execute_result"
    },
    {
     "data": {
      "image/png": "[encoded data removed]",
      "text/plain": [
       "<Figure size 640x480 with 1 Axes>"
      ]
     },
     "metadata": {},
     "output_type": "display_data"
    }
   ],
   "source": [
    "plt.plot(date,data,'-o')\n",
    "plt.plot(date,SIR_Model(date,parameters[0],parameters[1],parameters[2],parameters[3]))"
   ]
  },
  {
   "cell_type": "code",
   "execution_count": 203,
   "id": "f2b7690f",
   "metadata": {},
   "outputs": [
    {
     "name": "stdout",
     "output_type": "stream",
     "text": [
      "R0 = 17.820867125615475\n",
      "S0_fit = 1041375.251255442 S0_fit_frac = 0.09093991537648893\n",
      "S0_formula =  647509.6404655811\n"
     ]
    }
   ],
   "source": [
    "print('R0 =',parameters[0]/parameters[1])\n",
    "print('S0_fit =', (1-parameters[2]-parameters[3])*N, 'S0_fit_frac =',(1-parameters[2]-parameters[3]))\n",
    "R0 = parameters[0]/parameters[1]\n",
    "print('S0_formula = ', C/(1-np.exp(-R0*C))*N, 'S0_fit_frac =',(1-parameters[2]-parameters[3]))"
   ]
  }
 ],
 "metadata": {
  "kernelspec": {
   "display_name": "Python 3 (ipykernel)",
   "language": "python",
   "name": "python3"
  },
  "language_info": {
   "codemirror_mode": {
    "name": "ipython",
    "version": 3
   },
   "file_extension": ".py",
   "mimetype": "text/x-python",
   "name": "python",
   "nbconvert_exporter": "python",
   "pygments_lexer": "ipython3",
   "version": "3.10.9"
  }
 },
 "nbformat": 4,
 "nbformat_minor": 5
}
